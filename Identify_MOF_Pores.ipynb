{
 "cells": [
  {
   "cell_type": "markdown",
   "metadata": {},
   "source": [
    "***\n",
    "**Andrew ID - pbshukla** <br />\n",
    "**Final project - \"To determine the number of molecules adsorbed in the pores of UiO66 metal organic framework\"**\n",
    "***"
   ]
  },
  {
   "cell_type": "markdown",
   "metadata": {},
   "source": [
    "### Introduction\n",
    "Metal Organic Frameworks are porous materials consisting of metal oxide nodes and organic linkers.The stability of MOF is determined by the structure of the inorganic brick and the nature of the chemical bonds it forms with the linker.Zirconium 1,4-dicarboxybenzene MOF (UiO-66), is a zirconium based with high stabiltiy and large surface area which is ~1180-1240 m2/g. It consists of Zr6O4(OH)4 octahedral pore that is connected to adjacent octahedral pore through a (1,4-dicarboxylate) BDC linker. The linker and pores make it a highly packed fcc structure. The Zr-O bonds formed between the clusters and the carboxylate ligands increases the stabiltity of Zr-based MOF. <br />\n",
    "These materials are widely used for gas separation, gas storage, and catalysis. These are highly efficient adsorbents due to their tunable pore sizes, high surface area, adsorption affinity and thermal stability. My research work focuses on sorption of chemical warfare agents and toxic industrial chemicals, with the aim of catalytic conversion to benign products. Our modeling work complements experimental work seeking to understand the fundamental adsorption and transport properties of pristine and defective UiO-66. We are initially considering small test molecules to characterize the properties of pristine and defective UiO-66, including acetone, isopropanol, nitrogen and neon. <br />\n",
    "In this work, I have tried to determine the number of isopropanol molecules adsorbed in both octahedral and tetrahedral pores of pristine UiO-66 at 1 Pa and 3723 Pa."
   ]
  },
  {
   "cell_type": "markdown",
   "metadata": {},
   "source": [
    "### Methods\n",
    "**Identifying the COM of the tetrahedral and octahedral pore**\n",
    "* Initially, I read coordinates of a unit cell of UiO66 from file <span style=\"color:red\">*enter filename.* </span> using ASE. The file contained the coordinates of **114 atoms** of the MOF. There are two tetrahedral and one octahedral pore in 1x1x1 unit cell. The boxlength of the unit cell was set to be 14.83 Angstorm in ASE.\n",
    "The coordinates for the first **tetrahedral pore** was identfied by 4 oxygen atoms by reading the <span style=\"color:red\">*enter filename.* </span>. A dummy atom **Cu** was placed as an identifier for the COM of the pore. Similarly, the second tetrahedral pore was idenified by the other side of four oxygen atoms in the unit cell and the COM was placed as a dummy atom **N** for identifying the second tetrahedral pore. \n",
    "* For the **octahedral pore**, the COM was found by six Zr atoms from the file<span style=\"color:red\">*enter filename.* </span> and placing atom **K** as an identifier. The unit cell was then repeated to build 3x3x3 unit cell which simplified work for identifying all tetrahedral and octahedral pore COM. Thus, the 3x3x3 unit cell has 54 tetrahedral and 27 octahedral pores. \n",
    "* The coordinates of 3x3x3 unit cell with all the coordinates for 54 tetrahedral and 27 octahedral pores was stored in <span style=\"color:red\">*enter filename.* </span>\n",
    "\n"
   ]
  },
  {
   "cell_type": "markdown",
   "metadata": {},
   "source": [
    "![img](SS1.png)"
   ]
  },
  {
   "cell_type": "markdown",
   "metadata": {},
   "source": [
    "![img](ss2.png)"
   ]
  },
  {
   "cell_type": "markdown",
   "metadata": {},
   "source": [
    "**Center of Mass of first tetrahedral pore**"
   ]
  },
  {
   "cell_type": "code",
   "execution_count": 29,
   "metadata": {},
   "outputs": [
    {
     "name": "stdout",
     "output_type": "stream",
     "text": [
      "x-coordinates of tetrahedral pore in a 1x1x1 unit cell:\n",
      " [ 3.26   4.046  5.456  6.17   5.454  6.951  9.758 11.255  3.26   4.047\n",
      "  5.455  6.168  8.341  8.343  8.354  8.362 13.432 12.651 11.256 10.544\n",
      " 13.429 12.649 11.256 10.545]\n",
      "\n",
      "y-coordinates of tetrahedral pore in a 1x1x1 unit cell:\n",
      " [ 4.411  5.69   8.127  9.447  0.591  0.632  0.642  0.609  1.869  2.324\n",
      "  3.139  3.552 10.672  9.762  8.156  7.352  1.873  2.331  3.145  3.55\n",
      "  4.412  5.692  8.131  9.45 ]\n",
      "\n",
      "z-coordinates of tetrahedral pore in a 1x1x1 unit cell:\n",
      " [0.423 0.451 0.448 0.419 0.419 0.455 0.479 0.461 4.015 5.21  7.509 8.763\n",
      " 4.005 5.196 7.5   8.764 4.017 5.211 7.51  8.766 0.427 0.458 0.458 0.421]\n"
     ]
    }
   ],
   "source": [
    "import numpy as np\n",
    "sn, symbol, x, y,z = np.loadtxt('tetraCoord1.txt',unpack = True,\n",
    "                               dtype = {'names': ('sno','symbol','x','y','z'),\n",
    "                                                 'formats': ('i4','S2','f4','f4','f4')})\n",
    "print(f'x-coordinates of tetrahedral pore in a 1x1x1 unit cell:\\n {x}\\n')\n",
    "print(f'y-coordinates of tetrahedral pore in a 1x1x1 unit cell:\\n {y}\\n')\n",
    "print(f'z-coordinates of tetrahedral pore in a 1x1x1 unit cell:\\n {z}')\n",
    "\n"
   ]
  },
  {
   "cell_type": "code",
   "execution_count": 30,
   "metadata": {},
   "outputs": [
    {
     "name": "stdout",
     "output_type": "stream",
     "text": [
      "2D array of the coordinates of tetrahedral pore: \n",
      " [[ 3.26   4.411  0.423]\n",
      " [ 4.046  5.69   0.451]\n",
      " [ 5.456  8.127  0.448]\n",
      " [ 6.17   9.447  0.419]\n",
      " [ 5.454  0.591  0.419]\n",
      " [ 6.951  0.632  0.455]\n",
      " [ 9.758  0.642  0.479]\n",
      " [11.255  0.609  0.461]\n",
      " [ 3.26   1.869  4.015]\n",
      " [ 4.047  2.324  5.21 ]\n",
      " [ 5.455  3.139  7.509]\n",
      " [ 6.168  3.552  8.763]\n",
      " [ 8.341 10.672  4.005]\n",
      " [ 8.343  9.762  5.196]\n",
      " [ 8.354  8.156  7.5  ]\n",
      " [ 8.362  7.352  8.764]\n",
      " [13.432  1.873  4.017]\n",
      " [12.651  2.331  5.211]\n",
      " [11.256  3.145  7.51 ]\n",
      " [10.544  3.55   8.766]\n",
      " [13.429  4.412  0.427]\n",
      " [12.649  5.692  0.458]\n",
      " [11.256  8.131  0.458]\n",
      " [10.545  9.45   0.421]]\n"
     ]
    }
   ],
   "source": [
    "coord = np.array([x,y,z])\n",
    "coord1 = coord.T\n",
    "print(f'2D array of the coordinates of tetrahedral pore: \\n {coord1}')\n",
    "\n"
   ]
  },
  {
   "cell_type": "code",
   "execution_count": 31,
   "metadata": {},
   "outputs": [
    {
     "name": "stdout",
     "output_type": "stream",
     "text": [
      "Center of Mass of a single tetrahedral pore: \n",
      " [8.351749  4.814958  3.4077082]\n"
     ]
    }
   ],
   "source": [
    "xmean = np.mean(x)\n",
    "ymean = np.mean(y)\n",
    "zmean = np.mean(z)\n",
    "COM = np.array([xmean,ymean,zmean])\n",
    "print(f'Center of Mass of a single tetrahedral pore: \\n {COM}')\n",
    "\n"
   ]
  },
  {
   "cell_type": "markdown",
   "metadata": {},
   "source": [
    "**COM of second tetrahedral pore**"
   ]
  },
  {
   "cell_type": "code",
   "execution_count": 32,
   "metadata": {},
   "outputs": [
    {
     "name": "stdout",
     "output_type": "stream",
     "text": [
      "x-coordinates of second tetrahedral pore in a 1x1x1 unit cell:\n",
      " [17.741 23.172 23.173 28.605]\n",
      "\n",
      "y-coordinates of second tetrahedral pore in a 1x1x1 unit cell:\n",
      " [16.533  7.124 13.389 16.532]\n",
      "\n",
      "z-coordinates of second tetrahedral pore in a 1x1x1 unit cell:\n",
      " [11.69  11.69   2.824 11.689]\n"
     ]
    }
   ],
   "source": [
    "snt, symt, xt, yt, zt = np.loadtxt('tetrasecondpore.txt',unpack = True,\n",
    "                               dtype = {'names': ('sno','symbol','x','y','z'),\n",
    "                                                 'formats': ('i4','S2','f4','f4','f4')})\n",
    "print(f'x-coordinates of second tetrahedral pore in a 1x1x1 unit cell:\\n {xt}\\n')\n",
    "print(f'y-coordinates of second tetrahedral pore in a 1x1x1 unit cell:\\n {yt}\\n')\n",
    "print(f'z-coordinates of second tetrahedral pore in a 1x1x1 unit cell:\\n {zt}')\n",
    "\n"
   ]
  },
  {
   "cell_type": "code",
   "execution_count": 47,
   "metadata": {},
   "outputs": [
    {
     "name": "stdout",
     "output_type": "stream",
     "text": [
      "Center of Mass of a second tetrahedral pore: \n",
      " [23.172749 13.394501  9.473249]\n"
     ]
    }
   ],
   "source": [
    "xmeant = np.mean(xt)\n",
    "ymeant = np.mean(yt)\n",
    "zmeant = np.mean(zt)\n",
    "COMt = np.array([xmeant,ymeant,zmeant])\n",
    "print(f'Center of Mass of a second tetrahedral pore: \\n {COMt}')\n",
    "\n"
   ]
  },
  {
   "cell_type": "markdown",
   "metadata": {},
   "source": [
    "**COM of octahedral pore**"
   ]
  },
  {
   "cell_type": "code",
   "execution_count": 34,
   "metadata": {},
   "outputs": [
    {
     "name": "stdout",
     "output_type": "stream",
     "text": [
      "x-coordinates of octahedral pore in a 1x1x1 unit cell:\n",
      " [13.312  2.025  2.029  7.676 13.311  7.665]\n",
      "\n",
      "y-coordinates of octahedral pore in a 1x1x1 unit cell:\n",
      " [10.235 10.234  3.723 13.501  3.724  0.465]\n",
      "\n",
      "z-coordinates of octahedral pore in a 1x1x1 unit cell:\n",
      " [ 1.85   1.845 11.063 11.059 11.066  1.845]\n"
     ]
    }
   ],
   "source": [
    "sn1, symbol1, x1, y1,z1 = np.loadtxt('octahedralpore.txt',unpack = True,\n",
    "                               dtype = {'names': ('sno','symbol','x','y','z'),\n",
    "                                                 'formats': ('i4','S2','f4','f4','f4')})\n",
    "print(f'x-coordinates of octahedral pore in a 1x1x1 unit cell:\\n {x1}\\n')\n",
    "print(f'y-coordinates of octahedral pore in a 1x1x1 unit cell:\\n {y1}\\n')\n",
    "print(f'z-coordinates of octahedral pore in a 1x1x1 unit cell:\\n {z1}')\n",
    "\n"
   ]
  },
  {
   "cell_type": "code",
   "execution_count": 35,
   "metadata": {},
   "outputs": [
    {
     "name": "stdout",
     "output_type": "stream",
     "text": [
      "2D array of the coordinates of octahedral pore: \n",
      " [[13.312 10.235  1.85 ]\n",
      " [ 2.025 10.234  1.845]\n",
      " [ 2.029  3.723 11.063]\n",
      " [ 7.676 13.501 11.059]\n",
      " [13.311  3.724 11.066]\n",
      " [ 7.665  0.465  1.845]]\n"
     ]
    }
   ],
   "source": [
    "coord2 = np.array([x1,y1,z1])\n",
    "coord3 = coord2.T\n",
    "print(f'2D array of the coordinates of octahedral pore: \\n {coord3}')\n",
    "\n"
   ]
  },
  {
   "cell_type": "code",
   "execution_count": 36,
   "metadata": {},
   "outputs": [
    {
     "name": "stdout",
     "output_type": "stream",
     "text": [
      "Center of Mass of a single octahedral pore: \n",
      " [7.669667  6.9803333 6.4546666]\n"
     ]
    }
   ],
   "source": [
    "xmean1 = np.mean(x1)\n",
    "ymean1 = np.mean(y1)\n",
    "zmean1 = np.mean(z1)\n",
    "COM1 = np.array([xmean1,ymean1,zmean1])\n",
    "print(f'Center of Mass of a single octahedral pore: \\n {COM1}')\n",
    "\n"
   ]
  },
  {
   "cell_type": "markdown",
   "metadata": {},
   "source": [
    "![img](ss3.png)"
   ]
  },
  {
   "cell_type": "markdown",
   "metadata": {},
   "source": [
    "**Identifying the COM of Isopropanol molecules**\n",
    "* The isopropanol molecule is a five site model molecule of which the coordinates were produced from a Movie file running the GCMC simulation in RASPA.\n",
    "* For 1 Pa, <span style=\"color:red\">*enter filename.* </span> was read, The movie file had 31 Movies from the simulation. Each movie started with **MODEL** and ended with **ENDML** which helped to read the file in 31 different dataframes. For each dataframe, The COM for each IPA molecule was found. There were around 38-41 IPA molecules in each model.\n",
    "* For 3723 Pa, <span style=\"color:red\">*enter filename.* </span> was read and the same procedure was followed. There were around 188-196 molecules in each model.\n",
    "* The COM for 5 models for each pressure were written into text file **<span style=\"color:red\">*enter filename.* </span>** with **Li** atom as an identifier for the coordinates of the COM of molecule.\n",
    "* The COM for IPA and the pores were written into a single file <span style=\"color:red\">*enter filename.* </span> each for 1 Pa and 3723 Pa. This was needed to determine the molecules in the pores."
   ]
  },
  {
   "cell_type": "code",
   "execution_count": null,
   "metadata": {},
   "outputs": [],
   "source": []
  },
  {
   "cell_type": "code",
   "execution_count": 37,
   "metadata": {},
   "outputs": [
    {
     "data": {
      "text/html": [
       "<div>\n",
       "<style scoped>\n",
       "    .dataframe tbody tr th:only-of-type {\n",
       "        vertical-align: middle;\n",
       "    }\n",
       "\n",
       "    .dataframe tbody tr th {\n",
       "        vertical-align: top;\n",
       "    }\n",
       "\n",
       "    .dataframe thead th {\n",
       "        text-align: right;\n",
       "    }\n",
       "</style>\n",
       "<table border=\"1\" class=\"dataframe\">\n",
       "  <thead>\n",
       "    <tr style=\"text-align: right;\">\n",
       "      <th></th>\n",
       "      <th>index</th>\n",
       "      <th>X</th>\n",
       "      <th>Y</th>\n",
       "      <th>Z</th>\n",
       "    </tr>\n",
       "  </thead>\n",
       "  <tbody>\n",
       "    <tr>\n",
       "      <th>0</th>\n",
       "      <td>MODEL</td>\n",
       "      <td>NaN</td>\n",
       "      <td>NaN</td>\n",
       "      <td>NaN</td>\n",
       "    </tr>\n",
       "    <tr>\n",
       "      <th>1</th>\n",
       "      <td>CRYST1</td>\n",
       "      <td>60.000</td>\n",
       "      <td>60.000</td>\n",
       "      <td>60.000</td>\n",
       "    </tr>\n",
       "    <tr>\n",
       "      <th>2</th>\n",
       "      <td>ATOM</td>\n",
       "      <td>58.629</td>\n",
       "      <td>31.348</td>\n",
       "      <td>5.774</td>\n",
       "    </tr>\n",
       "    <tr>\n",
       "      <th>3</th>\n",
       "      <td>ATOM</td>\n",
       "      <td>59.353</td>\n",
       "      <td>32.154</td>\n",
       "      <td>6.707</td>\n",
       "    </tr>\n",
       "    <tr>\n",
       "      <th>4</th>\n",
       "      <td>ATOM</td>\n",
       "      <td>59.037</td>\n",
       "      <td>33.044</td>\n",
       "      <td>6.745</td>\n",
       "    </tr>\n",
       "  </tbody>\n",
       "</table>\n",
       "</div>"
      ],
      "text/plain": [
       "    index       X       Y       Z\n",
       "0   MODEL     NaN     NaN     NaN\n",
       "1  CRYST1  60.000  60.000  60.000\n",
       "2    ATOM  58.629  31.348   5.774\n",
       "3    ATOM  59.353  32.154   6.707\n",
       "4    ATOM  59.037  33.044   6.745"
      ]
     },
     "execution_count": 37,
     "metadata": {},
     "output_type": "execute_result"
    }
   ],
   "source": [
    "import pandas as pd\n",
    "df = pd.read_csv('pristineUiO66_3.3.3_1.00.pdb',delimiter = '\\s+',\n",
    "                names = ['index','ATOM','ANO','SYM1','X','Y','Z','RES1','RES2','SYM2'])\n",
    "df.drop(['ATOM','ANO','SYM1','RES1','RES2','SYM2'],axis = 1, inplace=True)\n",
    "df.head(5)\n"
   ]
  },
  {
   "cell_type": "code",
   "execution_count": 38,
   "metadata": {},
   "outputs": [],
   "source": [
    "def calc_com(pos):\n",
    "    return sum(pos*mass)/sum(mass)\n",
    "\n"
   ]
  },
  {
   "cell_type": "code",
   "execution_count": 39,
   "metadata": {},
   "outputs": [],
   "source": [
    "mass = np.array([13.0,16.0,1.0,15.0,15.0])\n",
    "import pandas as pd\n",
    "\n",
    "def IPA_COM(filename1,name):\n",
    "    starts, stops = [], []\n",
    "    with open(f'{filename1}') as f:\n",
    "        for i, line in enumerate(f):\n",
    "            if line.startswith('MODEL'):\n",
    "                starts += [i]\n",
    "            if line.startswith('ENDMDL'):\n",
    "                stops += [i]\n",
    "\n",
    "\n",
    "    dataframes = [pd.read_csv(f'{filename1}', \n",
    "                              delimiter='\\s+',\n",
    "                             skiprows=start + 2,\n",
    "                             nrows=stop - start - 2, \n",
    "                              index_col=False,\n",
    "                             names=['ATOM','ANO','SYM1','Mol','X','Y','Z','RES1','RES2','SYM2'])\n",
    "                      for start, stop in zip(starts, stops)]   \n",
    "\n",
    "    X = []\n",
    "    Y = []\n",
    "    Z = []\n",
    "    with open('isopropanol_%s_3.3.3_COM.xyz'%name,'w+') as f1:\n",
    "\n",
    "        for i in range(len(dataframes)):\n",
    "            f1.write(str(int(len(dataframes[i])/5))+'\\n'+str('i=')+' '+str(i+1)+'\\n')\n",
    "            for k in range(int(len(dataframes[i])/5)):\n",
    "                xf = dataframes[i]['X'][k*5:k*5+5]\n",
    "                yf = dataframes[i]['Y'][k*5:k*5+5]\n",
    "                zf = dataframes[i]['Z'][k*5:k*5+5]\n",
    "                xcom = calc_com(xf)\n",
    "                ycom = calc_com(yf)\n",
    "                zcom = calc_com(zf)\n",
    "                f1.write(str('Li')+' '+str(xcom)+' '+str(ycom)+' '+str(zcom)+'\\n')\n",
    "\n",
    "IPA_COM('pristineUiO66_3.3.3_1.00.pdb','1Pa')\n",
    "IPA_COM('pristineUiO66_3.3.3_3723.00.pdb','3723Pa')\n",
    "        "
   ]
  },
  {
   "cell_type": "markdown",
   "metadata": {},
   "source": [
    "![img](ss4.png)"
   ]
  },
  {
   "cell_type": "markdown",
   "metadata": {},
   "source": [
    "**Identifying the number of moelcules in the tetrahedral pore**\n",
    "* By visualizing the <span style=\"color:red\">*enter filename.* </span> **tetra54_1_.xyz** generated by ASE, I recognized the pattern that there were 8 oxygen atoms continously in a row followed by six Zr atoms and one Cu and N for a unit cell which was repeated for 3x3x3 unit cell. The first four oxygen atoms corresponded to the vertices of the N (COM) which was a tetrahedron shape. The next four oxygen atoms corresponded to the vertices of the tetrahedron of Cu atom. This pattern recognition helped to define the test case for finding if a point (IPA molecule) is inside the tetrahedron.\n",
    "* Thus, the oxygen coordinates served as the vertices of the tetrahedron and the test points were the coordinates of the IPA molecule."
   ]
  },
  {
   "cell_type": "markdown",
   "metadata": {},
   "source": [
    "![img](ss7.png)"
   ]
  },
  {
   "cell_type": "markdown",
   "metadata": {},
   "source": [
    "**Merge tetracoordinates and all the movies for 3723Pa**"
   ]
  },
  {
   "cell_type": "code",
   "execution_count": 40,
   "metadata": {},
   "outputs": [],
   "source": [
    "file1 = file2 = \" \"\n",
    "with open('tera54coordinates_3.3.3.xyz') as fp:\n",
    "    file1 = fp.read()\n",
    "with open('isopropanol_3723Pa_3.3.3_COM.xyz') as fp:\n",
    "    file2 = fp.read()\n",
    "    \n",
    "file1+='\\n'\n",
    "file1+=file2\n",
    "\n",
    "with open('Tetracoord_isopropanal_allMovies_3723Pa.xyz','w') as fp:\n",
    "    fp.write(file1)\n",
    "    \n",
    "    "
   ]
  },
  {
   "cell_type": "markdown",
   "metadata": {},
   "source": [
    "![img](ss8.png)"
   ]
  },
  {
   "cell_type": "markdown",
   "metadata": {},
   "source": [
    "**Merge tetracoords and all movies for 1Pa**"
   ]
  },
  {
   "cell_type": "code",
   "execution_count": 41,
   "metadata": {},
   "outputs": [],
   "source": [
    "file1a = file2a = \" \"\n",
    "with open('tera54coordinates_3.3.3.xyz') as fp:\n",
    "    file1a = fp.read()\n",
    "with open('isopropanol_1Pa_3.3.3_COM.xyz') as fp:\n",
    "    file2a = fp.read()\n",
    "    \n",
    "file1a+='\\n'\n",
    "file1a+=file2a\n",
    "\n",
    "with open('Tetracoord_isopropanal_allMovies_1Pa.xyz','w') as fp:\n",
    "    fp.write(file1a)\n",
    "    \n",
    "    "
   ]
  },
  {
   "cell_type": "markdown",
   "metadata": {},
   "source": [
    "![img](ss5.png)\n",
    "![img](ss6.png)"
   ]
  },
  {
   "cell_type": "code",
   "execution_count": 42,
   "metadata": {},
   "outputs": [],
   "source": [
    "import numpy as np\n",
    "import pandas as pd\n",
    "import matplotlib.pyplot as plt\n",
    "\n",
    "def pores_allmovies(filename):\n",
    "    data = []\n",
    "    starts1, stops1 = [], []\n",
    "\n",
    "    \n",
    "    with open(f'{filename}') as f:\n",
    "        cn = f.readlines()\n",
    "        for line in cn[0:434]:\n",
    "            x = line.split()\n",
    "            if (len(x)==4):\n",
    "                temp = [x[0], float(x[1]),float(x[2]),float(x[3])]\n",
    "                data.append(temp)\n",
    "        for i,line in enumerate(cn):\n",
    "            if line.startswith('i'):\n",
    "                starts1+=[i+1]\n",
    "                stops1+=[i+float(cn[i-1])]\n",
    "\n",
    "\n",
    "    dataframes2 = [pd.read_csv(f'{filename}', \n",
    "                              delimiter='\\s+',\n",
    "                             skiprows=start ,\n",
    "                             nrows=stop - start+1, \n",
    "                              index_col=False,\n",
    "                             names=['SYM1','X','Y','Z'])\n",
    "                      for start, stop in zip(starts1, stops1)]  \n",
    "\n",
    "    data = np.array(data)\n",
    "    dcoord = data[:, 1:4]\n",
    "    dcoord = dcoord.astype(float)\n",
    "\n",
    "    tetra_count = 0\n",
    "    N_c = 0\n",
    "    Cu_c = 0\n",
    "\n",
    "    IPA_coord_all = []\n",
    "\n",
    "    for i in range(len(dataframes2)):\n",
    "        for k in range(len(dataframes2[i])):\n",
    "                X = np.array(dataframes2[i].X)\n",
    "                Y = np.array(dataframes2[i].Y)\n",
    "                Z = np.array(dataframes2[i].Z)\n",
    "                IPA_coord = np.array([X,Y,Z]).T\n",
    "        IPA_coord_all.append(IPA_coord)\n",
    "\n",
    "    Tpores = []\n",
    "    movies = []\n",
    "    Octapores = []\n",
    "    for out in range(len(IPA_coord_all)):\n",
    "        tetra_count = 0\n",
    "        \n",
    "        IPA_dcoord = IPA_coord_all[out]\n",
    "\n",
    "        for i in range(len(data)):\n",
    "            if(data[i][0] == 'Cu'):\n",
    "                v1 = dcoord[i-7]\n",
    "                v1 = np.append(v1,1.0)\n",
    "                v2 = dcoord[i-8]\n",
    "                v2 = np.append(v2,1.0)\n",
    "                v3 = dcoord[i-9]\n",
    "                v3 = np.append(v3,1.0)\n",
    "                v4 = dcoord[i-10]\n",
    "                v4 = np.append(v4,1.0)\n",
    "\n",
    "                for j in range(len(IPA_dcoord)):\n",
    "                    p1 = IPA_dcoord[j]\n",
    "                    p1 = np.append(p1,1)\n",
    "                    D0 = np.array([v1,v2,v3,v4])\n",
    "                    det0 = np.linalg.det(D0)\n",
    "\n",
    "                    D1 = np.array([p1,v2,v3,v4])\n",
    "                    det1 = np.linalg.det(D1)\n",
    "\n",
    "                    D2 = np.array([v1,p1,v3,v4])\n",
    "                    det2 = np.linalg.det(D2)\n",
    "\n",
    "                    D3 = np.array([v1,v2,p1,v4])\n",
    "                    det3 = np.linalg.det(D3)\n",
    "\n",
    "                    D4 = np.array([v1,v2,v3,p1])\n",
    "                    det4 = np.linalg.det(D4)\n",
    "\n",
    "                    if(np.sign(det0) == np.sign(det1) == np.sign(det2) == np.sign(det3) == np.sign(det4)):\n",
    "                        tetra_count += 1\n",
    "                        Cu_c += 1\n",
    "\n",
    "            if(data[i][0] == 'N'):\n",
    "                v1 = dcoord[i-15]\n",
    "                v1 = np.append(v1,1.0)\n",
    "                v2 = dcoord[i-14]\n",
    "                v2 = np.append(v2,1.0)\n",
    "                v3 = dcoord[i-13]\n",
    "                v3 = np.append(v3,1.0)\n",
    "                v4 = dcoord[i-12]\n",
    "                v4 = np.append(v4,1.0)\n",
    "                for j in range(len(IPA_dcoord)):\n",
    "                    p1 = IPA_dcoord[j]\n",
    "                    p1 = np.append(p1,1)\n",
    "                    D0 = np.array([v1,v2,v3,v4])\n",
    "                    det0 = np.linalg.det(D0)\n",
    "\n",
    "                    D1 = np.array([p1,v2,v3,v4])\n",
    "                    det1 = np.linalg.det(D1)\n",
    "\n",
    "                    D2 = np.array([v1,p1,v3,v4])\n",
    "                    det2 = np.linalg.det(D2)\n",
    "\n",
    "                    D3 = np.array([v1,v2,p1,v4])\n",
    "                    det3 = np.linalg.det(D3)\n",
    "\n",
    "                    D4 = np.array([v1,v2,v3,p1])\n",
    "                    det4 = np.linalg.det(D4)\n",
    "\n",
    "                    if(np.sign(det0) == np.sign(det1) == np.sign(det2) == np.sign(det3) == np.sign(det4)):\n",
    "                        tetra_count += 1\n",
    "                        N_c +=1\n",
    "        Tpores.append(tetra_count)\n",
    "        movies.append(out+1)\n",
    "        Octapores.append(len(IPA_dcoord) - tetra_count)\n",
    "\n",
    "    return movies,Tpores,Octapores\n",
    "\n"
   ]
  },
  {
   "cell_type": "code",
   "execution_count": 43,
   "metadata": {},
   "outputs": [
    {
     "data": {
      "image/png": "[encoded data removed]",
      "text/plain": [
       "<Figure size 432x288 with 2 Axes>"
      ]
     },
     "metadata": {
      "needs_background": "light"
     },
     "output_type": "display_data"
    }
   ],
   "source": [
    "movies1,Tpores1,Octapores1 = pores_allmovies('Tetracoord_isopropanal_allMovies_1Pa.xyz')\n",
    "\n",
    "fig, (ax0,ax1) = plt.subplots(1,2)\n",
    "P1 = ax0.bar(movies1,Tpores1)\n",
    "ax0.set_xlabel('movies')\n",
    "ax0.set_ylabel('molecules adsorbed')\n",
    "ax0.set_title('Tetrahedral pores for 1Pa')\n",
    "\n",
    "P2 = ax1.plot(movies1,Octapores1,'r.-')\n",
    "ax1.set_xlabel('movies')\n",
    "ax1.set_ylabel('molecules adsorbed')\n",
    "ax1.set_title('Octahedral pores for 1Pa')\n",
    "fig.tight_layout()\n",
    "plt.show()\n",
    "\n"
   ]
  },
  {
   "cell_type": "code",
   "execution_count": 44,
   "metadata": {},
   "outputs": [
    {
     "data": {
      "image/png": "[encoded data removed]",
      "text/plain": [
       "<Figure size 432x288 with 2 Axes>"
      ]
     },
     "metadata": {
      "needs_background": "light"
     },
     "output_type": "display_data"
    }
   ],
   "source": [
    "movies2,Tpores2,Octapores2 = pores_allmovies('Tetracoord_isopropanal_allMovies_3723Pa.xyz')\n",
    "\n",
    "fig, (ax0,ax1) = plt.subplots(1,2)\n",
    "P1 = ax0.bar(movies2,Tpores2)\n",
    "ax0.set_xlabel('movies')\n",
    "ax0.set_ylabel('molecules adsorbed')\n",
    "ax0.set_title('Tetrahedral pores for 3723Pa')\n",
    "\n",
    "P2 = ax1.plot(movies2,Octapores2,'g.-')\n",
    "ax1.set_xlabel('movies')\n",
    "ax1.set_ylabel('molecules adsorbed')\n",
    "ax1.set_title('Octahedral pores for 3723Pa')\n",
    "fig.tight_layout()\n",
    "plt.show()\n"
   ]
  },
  {
   "cell_type": "markdown",
   "metadata": {},
   "source": [
    "### Results\n",
    "* Reading the Moviefiles and using datascience tools to obtain required data and results, it was observed that there were around 38-42 IPA molecules adsorbed in pristine UiO-66 MOF at low pressure(1Pa).\n",
    "* Around 188-191 molecules adsorbed at 3723 Pa which is the vapor pressure of isopropanol.\n",
    "* For both the cases, the molecules tend to adsorb in octahedral pores. This is due to the stability of the pore because of the presence of six Zr atoms and the BDC linkers.\n",
    "* With increase in pressure, more number of molecules are adsorbed in octahedral pores."
   ]
  },
  {
   "cell_type": "markdown",
   "metadata": {},
   "source": [
    "### Discussion\n",
    "Atomic simulation environment (ASE) proved to be a powerful tool for visualization of the coordinates of atoms for 1x1x1 unit cell at the same time producing .xyz file for 3x3x3 unit cell when the cell was repeated. The dummy indicator atoms helped to visualize the COM of the pores. Dataframes allowed to read a complex .pdb file which had data for all Movies from the simulation into groups of different models which saved computational cost and eradicated the necessity of making multiple text files for each movies. The dataframes helped to find COM of IPA molecules which were then merged with the coordinates of tetrahedral pores to find the number of molecules in the pores. From the report, it can be concluded that pandas and visualization techniques served as powerful tool to solve the challenging research problems involving data.\n"
   ]
  }
 ],
 "metadata": {
  "kernelspec": {
   "display_name": "Python 3",
   "language": "python",
   "name": "python3"
  },
  "language_info": {
   "codemirror_mode": {
    "name": "ipython",
    "version": 3
   },
   "file_extension": ".py",
   "mimetype": "text/x-python",
   "name": "python",
   "nbconvert_exporter": "python",
   "pygments_lexer": "ipython3",
   "version": "3.7.0"
  }
 },
 "nbformat": 4,
 "nbformat_minor": 4
}
