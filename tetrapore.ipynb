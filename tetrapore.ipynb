{
 "cells": [
  {
   "cell_type": "code",
   "execution_count": 2,
   "metadata": {},
   "outputs": [
    {
     "data": {
      "text/plain": [
       "(array([ 3.26 ,  4.046,  5.456,  6.17 ,  5.454,  6.951,  9.758, 11.255,\n",
       "         3.26 ,  4.047,  5.455,  6.168,  8.341,  8.343,  8.354,  8.362,\n",
       "        13.432, 12.651, 11.256, 10.544, 13.429, 12.649, 11.256, 10.545],\n",
       "       dtype=float32),\n",
       " array([ 4.411,  5.69 ,  8.127,  9.447,  0.591,  0.632,  0.642,  0.609,\n",
       "         1.869,  2.324,  3.139,  3.552, 10.672,  9.762,  8.156,  7.352,\n",
       "         1.873,  2.331,  3.145,  3.55 ,  4.412,  5.692,  8.131,  9.45 ],\n",
       "       dtype=float32),\n",
       " array([0.423, 0.451, 0.448, 0.419, 0.419, 0.455, 0.479, 0.461, 4.015,\n",
       "        5.21 , 7.509, 8.763, 4.005, 5.196, 7.5  , 8.764, 4.017, 5.211,\n",
       "        7.51 , 8.766, 0.427, 0.458, 0.458, 0.421], dtype=float32))"
      ]
     },
     "execution_count": 2,
     "metadata": {},
     "output_type": "execute_result"
    }
   ],
   "source": [
    "import numpy as np\n",
    "sn, symbol, x, y,z = np.loadtxt('tetraCoord.rtf',unpack = True,\n",
    "                               dtype = {'names': ('sno','symbol','x','y','z'),\n",
    "                                                 'formats': ('i4','S2','f4','f4','f4')})\n",
    "x,y,z"
   ]
  },
  {
   "cell_type": "code",
   "execution_count": 3,
   "metadata": {},
   "outputs": [
    {
     "data": {
      "text/plain": [
       "array([[ 3.26 ,  4.411,  0.423],\n",
       "       [ 4.046,  5.69 ,  0.451],\n",
       "       [ 5.456,  8.127,  0.448],\n",
       "       [ 6.17 ,  9.447,  0.419],\n",
       "       [ 5.454,  0.591,  0.419],\n",
       "       [ 6.951,  0.632,  0.455],\n",
       "       [ 9.758,  0.642,  0.479],\n",
       "       [11.255,  0.609,  0.461],\n",
       "       [ 3.26 ,  1.869,  4.015],\n",
       "       [ 4.047,  2.324,  5.21 ],\n",
       "       [ 5.455,  3.139,  7.509],\n",
       "       [ 6.168,  3.552,  8.763],\n",
       "       [ 8.341, 10.672,  4.005],\n",
       "       [ 8.343,  9.762,  5.196],\n",
       "       [ 8.354,  8.156,  7.5  ],\n",
       "       [ 8.362,  7.352,  8.764],\n",
       "       [13.432,  1.873,  4.017],\n",
       "       [12.651,  2.331,  5.211],\n",
       "       [11.256,  3.145,  7.51 ],\n",
       "       [10.544,  3.55 ,  8.766],\n",
       "       [13.429,  4.412,  0.427],\n",
       "       [12.649,  5.692,  0.458],\n",
       "       [11.256,  8.131,  0.458],\n",
       "       [10.545,  9.45 ,  0.421]], dtype=float32)"
      ]
     },
     "execution_count": 3,
     "metadata": {},
     "output_type": "execute_result"
    }
   ],
   "source": [
    "coord = np.array([x,y,z])\n",
    "coord1 = coord.T\n",
    "# Zrarray = np.array([coord1[17],coord1[18],coord1[19],coord1[20],coord1\n",
    "coord1"
   ]
  },
  {
   "cell_type": "code",
   "execution_count": 4,
   "metadata": {},
   "outputs": [
    {
     "data": {
      "text/plain": [
       "array([8.351749 , 4.814958 , 3.4077082], dtype=float32)"
      ]
     },
     "execution_count": 4,
     "metadata": {},
     "output_type": "execute_result"
    }
   ],
   "source": [
    "xmean = np.mean(x)\n",
    "ymean = np.mean(y)\n",
    "zmean = np.mean(z)\n",
    "COM = np.array([xmean,ymean,zmean])\n",
    "COM"
   ]
  },
  {
   "cell_type": "code",
   "execution_count": 5,
   "metadata": {},
   "outputs": [
    {
     "data": {
      "text/plain": [
       "Atom('Zr', [array([8.35174942, 4.8149581 , 3.40770817])])"
      ]
     },
     "execution_count": 5,
     "metadata": {},
     "output_type": "execute_result"
    }
   ],
   "source": [
    "from ase.atom import Atom\n",
    "atom = Atom('Zr',[COM])\n",
    "atom\n"
   ]
  },
  {
   "cell_type": "code",
   "execution_count": 14,
   "metadata": {},
   "outputs": [],
   "source": [
    "# m = 91.224*3 + 16\n",
    "m = [91.224, 91.224, 91.224, 16]"
   ]
  },
  {
   "cell_type": "code",
   "execution_count": 23,
   "metadata": {},
   "outputs": [
    {
     "data": {
      "text/plain": [
       "array([15.091, 20.727, 20.727, 27.928], dtype=float32)"
      ]
     },
     "execution_count": 23,
     "metadata": {},
     "output_type": "execute_result"
    }
   ],
   "source": [
    "sn1, sym1, x1, y1, z1 = np.loadtxt('tetrasecondpore-trial.txt',unpack = True,\n",
    "                               dtype = {'names': ('sno','symbol','x','y','z'),\n",
    "                                                 'formats': ('i4','S2','f4','f4','f4')})\n",
    "x1,y1,z1\n",
    "X1 = x1.T\n",
    "Y1 = y1.T\n",
    "Z1 = z1.T\n",
    "X1"
   ]
  },
  {
   "cell_type": "code",
   "execution_count": 25,
   "metadata": {},
   "outputs": [
    {
     "data": {
      "text/plain": [
       "array([19.34984709, 11.16503836,  7.89855107])"
      ]
     },
     "execution_count": 25,
     "metadata": {},
     "output_type": "execute_result"
    }
   ],
   "source": [
    "xmean1 = sum((X1*m))/sum(m)\n",
    "ymean1 = sum((Y1*m))/sum(m)\n",
    "zmean1 = sum((Z1*m))/sum(m)\n",
    "COM1 = np.array([xmean1,ymean1,zmean1])\n",
    "COM1\n",
    "# xmean1"
   ]
  },
  {
   "cell_type": "markdown",
   "metadata": {},
   "source": [
    "### Corrected second tetrahedral pore "
   ]
  },
  {
   "cell_type": "code",
   "execution_count": 9,
   "metadata": {},
   "outputs": [],
   "source": [
    "# # !pip install shutil\n",
    "# !pip install --upgrade pip"
   ]
  },
  {
   "cell_type": "code",
   "execution_count": null,
   "metadata": {},
   "outputs": [],
   "source": []
  }
 ],
 "metadata": {
  "kernelspec": {
   "display_name": "Python 3.7",
   "language": "python",
   "name": "python3"
  },
  "language_info": {
   "codemirror_mode": {
    "name": "ipython",
    "version": 3
   },
   "file_extension": ".py",
   "mimetype": "text/x-python",
   "name": "python",
   "nbconvert_exporter": "python",
   "pygments_lexer": "ipython3",
   "version": "3.7.0"
  }
 },
 "nbformat": 4,
 "nbformat_minor": 4
}
