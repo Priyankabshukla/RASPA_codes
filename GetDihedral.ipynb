{
 "cells": [
  {
   "cell_type": "markdown",
   "metadata": {},
   "source": [
    "### This jupyter notebook is to calculate the dihedral angles for the ordered parameter O-C-C-C (Coordinates are in data.RoggeUiO-66 for rigid framework)\n",
    "I want to calculate the dihedral angles for the NVT MD empty flexible MOF for O-C-C-C (type 6). There are 8 such type of dihedrals per linker and Thus 8$\\times$192 = 1536 dihedrals\n",
    "\n"
   ]
  },
  {
   "cell_type": "code",
   "execution_count": 2,
   "metadata": {},
   "outputs": [],
   "source": [
    "import numpy as np\n",
    "import matplotlib.pyplot as plt\n",
    "import ase\n",
    "from ase import Atoms\n",
    "from ase.io import read, write\n",
    "import numpy as np\n",
    "import ase.io.lammpsrun"
   ]
  },
  {
   "cell_type": "markdown",
   "metadata": {},
   "source": [
    "Path directory for empty flexible UiO-66 framework: /bgfs/kjohnson/pbs13/FlexibleMOFs-GCMC/NVT-MD-all/0loading-emptyUiO-66"
   ]
  },
  {
   "cell_type": "markdown",
   "metadata": {},
   "source": [
    "First read \"data.RoggeUiO66\" file to count how many number of dihedrals of type 6 are there with the atom numbers and save their coordinates in a list\n",
    "To form type 6 dihedral, framework atom numbers are  '2': C2, '1':C1, '3':Cca,'6':Oca"
   ]
  },
  {
   "cell_type": "code",
   "execution_count": 3,
   "metadata": {},
   "outputs": [
    {
     "name": "stdout",
     "output_type": "stream",
     "text": [
      "Total number of dihedrals:  7680\n",
      "Total number of dihedrals of type 6:  1536\n"
     ]
    }
   ],
   "source": [
    "fr = read('/bgfs/kjohnson/pbs13/FlexibleMOFs-GCMC/NVT-MD-all/0loading-emptyUiO-66/data.RoggeUiO66', format='lammps-data')\n",
    "dihedral_big_list=[]\n",
    "with open('/bgfs/kjohnson/pbs13/FlexibleMOFs-GCMC/NVT-MD-all/0loading-emptyUiO-66/data.RoggeUiO66','r') as f:  ## To find dihedral angles for rigid UiO-66\n",
    "    data = f.readlines()[15777:23457]\n",
    "    print(\"Total number of dihedrals: \",len(data))\n",
    "    count = 0\n",
    "    dihedral_count = 0 \n",
    "    for lines in data:\n",
    "        l_split = lines.split()\n",
    "        if l_split[1] == '6':\n",
    "            dihedral_big_list.append([int(int(l_split[2])-1), int(int(l_split[3])-1), int(int(l_split[4])-1), int(int(l_split[5])-1)]) # indices of atoms to find dihedral starting from 0\n",
    "            dih = fr.get_dihedral(int(int(l_split[2])-1), int(int(l_split[3])-1), int(int(l_split[4])-1), int(int(l_split[5])-1))  # -1 since lammps starts from 1\n",
    "#             print(dih)\n",
    "            count+=1\n",
    "    print('Total number of dihedrals of type 6: ',count)\n",
    "#     print(dihedral_big_list)\n",
    "#     print(dih)\n",
    "   \n",
    "            \n",
    "        \n",
    "        "
   ]
  },
  {
   "cell_type": "markdown",
   "metadata": {},
   "source": [
    "#### Now in order to do get dihedral angles from the dump lammps file taking into account the periodic boundary condition, convert dump.lammpstrj to XDATCAR file and sort the atom indices in increasing order using sump2xdatcar-sort.py script and then use ase .get_dihedral() to get the dihedral angles\n",
    "\n",
    "Use command python dump2xdatcar-sort.py dumpFramework.production.lammpstrj XDATCAR"
   ]
  },
  {
   "cell_type": "code",
   "execution_count": 4,
   "metadata": {},
   "outputs": [
    {
     "name": "stdout",
     "output_type": "stream",
     "text": [
      "1 snapshot dihedral angles calculated.... Going to snapshot 2\n",
      "2 snapshot dihedral angles calculated.... Going to snapshot 3\n",
      "3 snapshot dihedral angles calculated.... Going to snapshot 4\n",
      "4 snapshot dihedral angles calculated.... Going to snapshot 5\n",
      "5 snapshot dihedral angles calculated.... Going to snapshot 6\n",
      "6 snapshot dihedral angles calculated.... Going to snapshot 7\n",
      "7 snapshot dihedral angles calculated.... Going to snapshot 8\n",
      "8 snapshot dihedral angles calculated.... Going to snapshot 9\n",
      "9 snapshot dihedral angles calculated.... Going to snapshot 10\n",
      "10 snapshot dihedral angles calculated.... Going to snapshot 11\n",
      "11 snapshot dihedral angles calculated.... Going to snapshot 12\n",
      "12 snapshot dihedral angles calculated.... Going to snapshot 13\n",
      "13 snapshot dihedral angles calculated.... Going to snapshot 14\n",
      "14 snapshot dihedral angles calculated.... Going to snapshot 15\n",
      "15 snapshot dihedral angles calculated.... Going to snapshot 16\n",
      "16 snapshot dihedral angles calculated.... Going to snapshot 17\n",
      "17 snapshot dihedral angles calculated.... Going to snapshot 18\n",
      "18 snapshot dihedral angles calculated.... Going to snapshot 19\n",
      "19 snapshot dihedral angles calculated.... Going to snapshot 20\n",
      "20 snapshot dihedral angles calculated.... Going to snapshot 21\n",
      "21 snapshot dihedral angles calculated.... Going to snapshot 22\n"
     ]
    }
   ],
   "source": [
    "global_dih_zero = []\n",
    "global_dih_7_IPA = []\n",
    "global_dih_7_acetone = []\n",
    "global_dih_23_N2 = []\n",
    "for j in range(0,21):\n",
    "    a0=read('/bgfs/kjohnson/pbs13/FlexibleMOFs-GCMC/NVT-MD-all/0loading-emptyUiO-66/XDATCAR',index=j)\n",
    "    a7=read('/bgfs/kjohnson/pbs13/FlexibleMOFs-GCMC/NVT-MD-all/7loadedIPA-UiO-66/dump2xdatcar/XDATCAR',index=j)\n",
    "    a7_acetone=read('/bgfs/kjohnson/pbs13/FlexibleMOFs-GCMC/NVT-MD-all/7loadedacetone-UiO-66/dump2xdatcar/XDATCAR',index=j)\n",
    "    a23_N2=read('/bgfs/kjohnson/pbs13/FlexibleMOFs-GCMC/NVT-MD-all/23loaded_N2_Rogge-UiO-66/dump2xdatcar/XDATCAR',index=j)\n",
    "    for i in range(len(dihedral_big_list)):\n",
    "        b=list(dihedral_big_list[i])\n",
    "        c0 = a0.get_dihedral(*b)\n",
    "        c7 = a7.get_dihedral(*b)\n",
    "        c7_acetone=a7_acetone.get_dihedral(*b)\n",
    "        c23_N2 = a23_N2.get_dihedral(*b)\n",
    "        global_dih_zero += [c0]\n",
    "        global_dih_7_IPA += [c7]\n",
    "        global_dih_7_acetone+=[c7_acetone]\n",
    "        global_dih_23_N2+=[c23_N2]\n",
    "#         print(a.get_dihedral(*b))\n",
    "    print(f'{j+1} snapshot dihedral angles calculated.... Going to snapshot {j+2}')\n",
    "    \n",
    "    \n",
    "# for j in range(0,20):\n",
    "#     a=read('/bgfs/kjohnson/pbs13/FlexibleMOFs-GCMC/NVT-MD-all/23loaded_N2_Rogge-UiO-66/dump2xdatcar/XDATCAR',index=j)\n",
    "#     a.get_positions()\n",
    "#     for i in range(len(dihedral_big_list)):\n",
    "#         b=list(dihedral_big_list[i])\n",
    "#         c = a.get_dihedral(*b)\n",
    "#         print(a.get_dihedral(*b))\n",
    "#     print(f'{j+1} snapshot dihedral angles calculated.... Going to snapshot {j+2}')\n",
    "\n",
    "\n",
    "\n",
    "# global_dih_7 = []\n",
    "# for j in range(0,21):\n",
    "#     a=read('/bgfs/kjohnson/pbs13/FlexibleMOFs-GCMC/NVT-MD-all/7loadedIPA-UiO-66/dump2xdatcar/XDATCAR',index=j)\n",
    "#     a.get_positions()\n",
    "#     for i in range(len(dihedral_big_list)):\n",
    "#         b=list(dihedral_big_list[i])\n",
    "#         c = a.get_dihedral(*b)\n",
    "#         global_dih_7 += [c]\n",
    "# #         print(a.get_dihedral(*b))\n",
    "#     print(f'{j+1} snapshot dihedral angles calculated.... Going to snapshot {j+2}')\n",
    "\n",
    "\n",
    "    "
   ]
  },
  {
   "cell_type": "code",
   "execution_count": 13,
   "metadata": {},
   "outputs": [
    {
     "name": "stdout",
     "output_type": "stream",
     "text": [
      "0\n"
     ]
    },
    {
     "data": {
      "image/png": "[encoded data removed]",
      "text/plain": [
       "<Figure size 1080x720 with 1 Axes>"
      ]
     },
     "metadata": {
      "needs_background": "light"
     },
     "output_type": "display_data"
    }
   ],
   "source": [
    "plt.figure(figsize=(15,10))\n",
    "bins=500\n",
    "plt.hist(global_dih_zero,bins=bins,histtype='step', linewidth=3,label='empty, T= 298K',density=True)\n",
    "plt.hist(global_dih_7_IPA,bins=bins,histtype='step', linewidth=3,label='IPA,T = 298K',density=True)\n",
    "plt.hist(global_dih_7_acetone,bins=bins,histtype='step', linewidth=3,label='acetone, T = 298 K',density=True)\n",
    "plt.hist(global_dih_23_N2,bins=bins,histtype='step', linewidth=3,label='N2, T = 77 K',density=True)\n",
    "plt.legend(frameon=False,bbox_to_anchor=(1,1))\n",
    "plt.ylabel('Probability distribution',size=15)\n",
    "plt.xlabel('Angles (degree)',size=15)\n",
    "# ?plt.hist()\n",
    "print(len(global_dih_23_N2)-(1536*21))"
   ]
  },
  {
   "cell_type": "markdown",
   "metadata": {},
   "source": [
    "## What do we learn from this?\n",
    "\n",
    "* For empty flexible, 7loaded IPA and 7 loaded acetone, there are very little differences in the distribution plots. \n",
    "* For empty flexible UiO-66, there is higher distribution of angles of 0, 180 and 360\n",
    "* For 7 loaded acetone flexible MOF, there is higher distribution of angles of 0, 180 and 360 than IPA but lesser distribution of angles of 0, 180 and 360 than empty flexible UiO-66. This could be due to smaller size of acetone than IPA\n",
    "* For 7 loaded IPA flexible MOF, The angle distribution for 0, 180 and 360 is lesser than both empty and 7 loaded acetone. This could be due to larger size of IPA molecule which interacts more with the linker.\n",
    "\n"
   ]
  },
  {
   "cell_type": "code",
   "execution_count": 11,
   "metadata": {},
   "outputs": [
    {
     "data": {
      "text/plain": [
       "array([4, 2, 6, ..., 9, 9, 9])"
      ]
     },
     "execution_count": 11,
     "metadata": {},
     "output_type": "execute_result"
    }
   ],
   "source": [
    "## Just for testing: 0 - 1 - 2 - 3 : Dihedral is 35.3\n",
    "ff= read('/ihome/kjohnson/pbs13/Flexible_bgfs/0Loading/NVT-MD/test.xyz')\n",
    "fr = read('/bgfs/kjohnson/pbs13/FlexibleMOFs-GCMC/NVT-MD-all/0loading-emptyUiO-66/data.RoggeUiO66', format='lammps-data')\n",
    "# with open('/bgfs/kjohnson/pbs13/FlexibleMOFs-GCMC/NVT-MD-all/0loading-emptyUiO-66/data.RoggeUiO66','r') as f:  ## To find dihedral angles for rigid UiO-66\n",
    "\n"
   ]
  },
  {
   "cell_type": "code",
   "execution_count": 1,
   "metadata": {},
   "outputs": [
    {
     "ename": "NameError",
     "evalue": "name 'fr' is not defined",
     "output_type": "error",
     "traceback": [
      "\u001b[0;31m---------------------------------------------------------------------------\u001b[0m",
      "\u001b[0;31mNameError\u001b[0m                                 Traceback (most recent call last)",
      "\u001b[0;32m<ipython-input-1-ce65753205d8>\u001b[0m in \u001b[0;36m<module>\u001b[0;34m()\u001b[0m\n\u001b[0;32m----> 1\u001b[0;31m \u001b[0mfr\u001b[0m\u001b[0;34m.\u001b[0m\u001b[0mget_chemical_symbols\u001b[0m\u001b[0;34m(\u001b[0m\u001b[0;34m)\u001b[0m\u001b[0;34m\u001b[0m\u001b[0m\n\u001b[0m",
      "\u001b[0;31mNameError\u001b[0m: name 'fr' is not defined"
     ]
    }
   ],
   "source": [
    "fr.get_chemical_symbols()"
   ]
  },
  {
   "cell_type": "code",
   "execution_count": 89,
   "metadata": {},
   "outputs": [
    {
     "name": "stdout",
     "output_type": "stream",
     "text": [
      "Be He C Li H N O F B\n",
      "768 768 768 384 384 128 128 192 128\n"
     ]
    }
   ],
   "source": [
    "symb = fr.get_chemical_symbols()\n",
    "# print(symb)\n",
    "symbBe = [x for x in symb if x == 'Be']\n",
    "symbHe = [x for x in symb if x == 'He']\n",
    "symbC = [x for x in symb if x == 'C']\n",
    "symbLi = [x for x in symb if x == 'Li']\n",
    "symbH = [x for x in symb if x == 'H']\n",
    "symbN = [x for x in symb if x == 'N']\n",
    "symbO = [x for x in symb if x == 'O']\n",
    "symbF = [x for x in symb if x == 'F']\n",
    "symbB = [x for x in symb if x == 'B']\n",
    "\n",
    "print('Be He C Li H N O F B')\n",
    "print(len(symbBe), len(symbHe), len(symbC), len(symbLi), len(symbH), len(symbN), len(symbO), len(symbF), len(symbB))\n"
   ]
  },
  {
   "cell_type": "code",
   "execution_count": 2,
   "metadata": {},
   "outputs": [
    {
     "data": {
      "text/plain": [
       "134.31988619611946"
      ]
     },
     "execution_count": 2,
     "metadata": {},
     "output_type": "execute_result"
    }
   ],
   "source": [
    "indices=[0,1,2]\n",
    "test=read('/ihome/kjohnson/pbs13/FlexibleFramework-resultanalysis/Angles/test-angles.xyz')\n",
    "test.get_angle(*indices)"
   ]
  }
 ],
 "metadata": {
  "kernelspec": {
   "display_name": "Python 3.7",
   "language": "python",
   "name": "python3"
  },
  "language_info": {
   "codemirror_mode": {
    "name": "ipython",
    "version": 3
   },
   "file_extension": ".py",
   "mimetype": "text/x-python",
   "name": "python",
   "nbconvert_exporter": "python",
   "pygments_lexer": "ipython3",
   "version": "3.7.0"
  }
 },
 "nbformat": 4,
 "nbformat_minor": 4
}
